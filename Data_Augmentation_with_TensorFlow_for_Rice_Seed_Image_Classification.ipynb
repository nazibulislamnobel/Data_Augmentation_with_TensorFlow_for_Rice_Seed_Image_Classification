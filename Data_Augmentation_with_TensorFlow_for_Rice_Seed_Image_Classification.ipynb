{
  "nbformat": 4,
  "nbformat_minor": 0,
  "metadata": {
    "colab": {
      "provenance": [],
      "machine_shape": "hm"
    },
    "kernelspec": {
      "name": "python3",
      "display_name": "Python 3"
    },
    "language_info": {
      "name": "python"
    }
  },
  "cells": [
    {
      "cell_type": "code",
      "execution_count": 1,
      "metadata": {
        "id": "meCEEVl_dpXI"
      },
      "outputs": [],
      "source": [
        "!pip install tensorflow"
      ]
    },
    {
      "cell_type": "code",
      "source": [
        "import os\n",
        "import numpy as np\n",
        "import zipfile\n",
        "import tensorflow as tf\n",
        "from tensorflow.keras.preprocessing.image import ImageDataGenerator, array_to_img, img_to_array, load_img\n",
        "\n",
        "datagen = ImageDataGenerator(\n",
        "    rotation_range=40,\n",
        "    width_shift_range=0.2,\n",
        "    height_shift_range=0.2,\n",
        "    shear_range=0.2,\n",
        "    zoom_range=0.2,\n",
        "    horizontal_flip=True,\n",
        "    fill_mode='nearest')"
      ],
      "metadata": {
        "id": "YtRDZRdteHon"
      },
      "execution_count": 2,
      "outputs": []
    },
    {
      "cell_type": "code",
      "source": [
        "zip_file_path = '/content/drive/MyDrive/Rice_Seed_Dataset.zip'\n",
        "unzip_dir = '/content/drive/MyDrive'\n",
        "\n",
        "os.makedirs(unzip_dir, exist_ok=True)\n",
        "\n",
        "with zipfile.ZipFile(zip_file_path, 'r') as zip_ref:\n",
        "    zip_ref.extractall(unzip_dir)\n"
      ],
      "metadata": {
        "id": "5QTb31EzeLbF"
      },
      "execution_count": 3,
      "outputs": []
    },
    {
      "cell_type": "code",
      "source": [
        "main_directory = '/content/drive/MyDrive/Rice_Seed_Dataset'\n",
        "\n",
        "output_directory = '/content/drive/MyDrive/Rice Seed Data AUG'\n",
        "os.makedirs(output_directory, exist_ok=True)\n",
        "\n",
        "for folder_name in os.listdir(main_directory):\n",
        "    subdirectory = os.path.join(main_directory, folder_name\n",
        "    if os.path.isdir(subdirectory):\n",
        "        for filename in os.listdir(subdirectory):\n",
        "            if filename.endswith('.jpg') or filename.endswith('.png'):\n",
        "                img = load_img(os.path.join(subdirectory, filename))\n",
        "                x = img_to_array(img)\n",
        "                x = np.expand_dims(x, axis=0)\n",
        "\n",
        "                i = 0\n",
        "                for batch in datagen.flow(x, batch_size=1):\n",
        "                    augmented_image = array_to_img(batch[0])\n",
        "                    augmented_image.save(os.path.join(output_directory, f\"{folder_name}_{filename.split('.')[0]}_{i}.jpg\"))\n",
        "                    i += 1\n",
        "                    if i >= 1000:\n",
        "                        break"
      ],
      "metadata": {
        "id": "7OyN2Ft4eixA"
      },
      "execution_count": null,
      "outputs": []
    }
  ]
}